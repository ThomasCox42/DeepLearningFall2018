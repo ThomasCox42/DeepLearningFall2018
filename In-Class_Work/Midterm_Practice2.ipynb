{
  "nbformat": 4,
  "nbformat_minor": 0,
  "metadata": {
    "colab": {
      "name": "Midterm_Practice2.ipynb",
      "version": "0.3.2",
      "provenance": [],
      "collapsed_sections": []
    },
    "kernelspec": {
      "name": "python3",
      "display_name": "Python 3"
    }
  },
  "cells": [
    {
      "metadata": {
        "id": "_xc88pLX1HT4",
        "colab_type": "text"
      },
      "cell_type": "markdown",
      "source": [
        "Feel free to search the web or stackoverflow if you have errors. You will be allowed to search the web and the documentation for different libraries during the midterm, but remember it is only 50 minutes so don't plan on doing that for every cell.   \n",
        "  \n",
        "tflearn documentation: http://tflearn.org/layers/conv/  \n",
        "  \n",
        "numpy documentation: https://docs.scipy.org/doc/numpy-1.15.0/genindex.html  \n",
        "  \n",
        "python documetation: https://docs.python.org/3.6/search.html\n"
      ]
    },
    {
      "metadata": {
        "id": "tMx3iqLR7rwe",
        "colab_type": "code",
        "colab": {}
      },
      "cell_type": "code",
      "source": [
        "from google.colab import drive"
      ],
      "execution_count": 0,
      "outputs": []
    },
    {
      "metadata": {
        "id": "sBX5fF_2Bd_P",
        "colab_type": "code",
        "colab": {}
      },
      "cell_type": "code",
      "source": [
        "drive.mount('/content/drive') # mount drive"
      ],
      "execution_count": 0,
      "outputs": []
    },
    {
      "metadata": {
        "id": "osIxNgZxlL82",
        "colab_type": "text"
      },
      "cell_type": "markdown",
      "source": [
        "In the line below, import things will need to navigate through the filesystem, to use tflearn, and to use matplotlib and numpy. "
      ]
    },
    {
      "metadata": {
        "id": "-iFA8U2YlZJR",
        "colab_type": "code",
        "colab": {}
      },
      "cell_type": "code",
      "source": [
        ""
      ],
      "execution_count": 0,
      "outputs": []
    },
    {
      "metadata": {
        "id": "FvVCGj-wB3Vi",
        "colab_type": "text"
      },
      "cell_type": "markdown",
      "source": [
        "In the line below, navigate through your drive's filesystem to your class folder."
      ]
    },
    {
      "metadata": {
        "id": "nd2ATaahBj2u",
        "colab_type": "code",
        "colab": {}
      },
      "cell_type": "code",
      "source": [
        ""
      ],
      "execution_count": 0,
      "outputs": []
    },
    {
      "metadata": {
        "id": "phbKNc_oB-pq",
        "colab_type": "text"
      },
      "cell_type": "markdown",
      "source": [
        "Below, print out all of the files in your class folder."
      ]
    },
    {
      "metadata": {
        "id": "atVsILzvByTI",
        "colab_type": "code",
        "colab": {}
      },
      "cell_type": "code",
      "source": [
        ""
      ],
      "execution_count": 0,
      "outputs": []
    },
    {
      "metadata": {
        "id": "fiqWuUqsCD1S",
        "colab_type": "text"
      },
      "cell_type": "markdown",
      "source": [
        "Go to canvas and enter this class' page. Click on Files > Datasets. Next, download the dataset called iris_data3.csv and upload that to your google drive to load that into colaboratory. When you have done that, you should be able to read that file in, as we have done in one or two of the past notebooks. Please read that file in as a numpy matrix and report the shape below. The matrix that is loaded in with this file should be 150 x 5 ... meaning there are 150 samples in the dataset, and each one has 5 features or attributes recorded for it. "
      ]
    },
    {
      "metadata": {
        "id": "WDo3TxSAhlOM",
        "colab_type": "code",
        "colab": {}
      },
      "cell_type": "code",
      "source": [
        ""
      ],
      "execution_count": 0,
      "outputs": []
    },
    {
      "metadata": {
        "id": "VIP0zYBaiL6P",
        "colab_type": "text"
      },
      "cell_type": "markdown",
      "source": [
        "This dataset was created to try and predict whether a given sample was one of three types of flowers based on four measurements: sepal width, sepal height, petal height, and petal width. In the data you loaded in, those measurements are the first four columns, and the last column is a number that corresponds to which flower that sample is (i.e. the last column of the data is the labels). In the line below, create a variable called *labels* by taking the last column of the data. Once you have done this, remove the last column from data (i.e. the label column). "
      ]
    },
    {
      "metadata": {
        "id": "lIug9F6lh20F",
        "colab_type": "code",
        "colab": {}
      },
      "cell_type": "code",
      "source": [
        ""
      ],
      "execution_count": 0,
      "outputs": []
    },
    {
      "metadata": {
        "id": "aO1Z8UnFk9ZZ",
        "colab_type": "text"
      },
      "cell_type": "markdown",
      "source": [
        "There are four empty code cells below. In each one, plot a histogram of each column in the dataset. For example, the first one should show a histogram of the first column (index 0) in the dataset. "
      ]
    },
    {
      "metadata": {
        "id": "pkkDBULZknI0",
        "colab_type": "code",
        "colab": {}
      },
      "cell_type": "code",
      "source": [
        ""
      ],
      "execution_count": 0,
      "outputs": []
    },
    {
      "metadata": {
        "id": "wTRlnQo7laCk",
        "colab_type": "code",
        "colab": {}
      },
      "cell_type": "code",
      "source": [
        ""
      ],
      "execution_count": 0,
      "outputs": []
    },
    {
      "metadata": {
        "id": "6eC8jmMMlaLY",
        "colab_type": "code",
        "colab": {}
      },
      "cell_type": "code",
      "source": [
        ""
      ],
      "execution_count": 0,
      "outputs": []
    },
    {
      "metadata": {
        "id": "NtSON9A4laTr",
        "colab_type": "code",
        "colab": {}
      },
      "cell_type": "code",
      "source": [
        ""
      ],
      "execution_count": 0,
      "outputs": []
    },
    {
      "metadata": {
        "id": "Rk4zTK-nmV_b",
        "colab_type": "text"
      },
      "cell_type": "markdown",
      "source": [
        "Based on these histograms, write in the line below how many different classes there appear to be in general. "
      ]
    },
    {
      "metadata": {
        "id": "cgJFHz4RmcPW",
        "colab_type": "text"
      },
      "cell_type": "markdown",
      "source": [
        ""
      ]
    },
    {
      "metadata": {
        "id": "7Qzy3Uwrmc6e",
        "colab_type": "text"
      },
      "cell_type": "markdown",
      "source": [
        "Now, normalize each feature in the dataset by subtracting the mean and dividing by the standard deviation."
      ]
    },
    {
      "metadata": {
        "id": "IWbdcrsVmmf_",
        "colab_type": "code",
        "colab": {}
      },
      "cell_type": "code",
      "source": [
        ""
      ],
      "execution_count": 0,
      "outputs": []
    },
    {
      "metadata": {
        "id": "Vj9_UV8zmnOq",
        "colab_type": "text"
      },
      "cell_type": "markdown",
      "source": [
        "Below, create an input layer to a fully-connected network that is able to take in some number of the samples from data and learn on it."
      ]
    },
    {
      "metadata": {
        "id": "yCie5dVAm4EW",
        "colab_type": "code",
        "colab": {}
      },
      "cell_type": "code",
      "source": [
        ""
      ],
      "execution_count": 0,
      "outputs": []
    },
    {
      "metadata": {
        "id": "etJPj0yJm6hR",
        "colab_type": "text"
      },
      "cell_type": "markdown",
      "source": [
        "In the line below, create a fully-connected layer that is going to take the input layer described above as input and have 50 nodes in it with a tanh activation. "
      ]
    },
    {
      "metadata": {
        "id": "LXaoDdl1nO7E",
        "colab_type": "code",
        "colab": {}
      },
      "cell_type": "code",
      "source": [
        ""
      ],
      "execution_count": 0,
      "outputs": []
    },
    {
      "metadata": {
        "id": "z9N7TEvNna_O",
        "colab_type": "text"
      },
      "cell_type": "markdown",
      "source": [
        "In the line below, use the dropout method on the activations of the previous layer with a dropout probability you think is best. Furthermore, explain here in a sentence or two why dropout is used in neural networks. Answer: "
      ]
    },
    {
      "metadata": {
        "id": "z4IBsk_OnvfH",
        "colab_type": "code",
        "colab": {}
      },
      "cell_type": "code",
      "source": [
        ""
      ],
      "execution_count": 0,
      "outputs": []
    },
    {
      "metadata": {
        "id": "YpkAbb3tnQSV",
        "colab_type": "text"
      },
      "cell_type": "markdown",
      "source": [
        "Now, create another fully-connected layer that is going to take in the previous layer's activations and have 50 nodes look at those values with a tanh activation. "
      ]
    },
    {
      "metadata": {
        "id": "2RmerpF3nwYL",
        "colab_type": "code",
        "colab": {}
      },
      "cell_type": "code",
      "source": [
        ""
      ],
      "execution_count": 0,
      "outputs": []
    },
    {
      "metadata": {
        "id": "_Vh0ngQjnxna",
        "colab_type": "text"
      },
      "cell_type": "markdown",
      "source": [
        "Below, apply dropout on the second layer's activations now. "
      ]
    },
    {
      "metadata": {
        "id": "Am9_Y1AEn1ni",
        "colab_type": "code",
        "colab": {}
      },
      "cell_type": "code",
      "source": [
        ""
      ],
      "execution_count": 0,
      "outputs": []
    },
    {
      "metadata": {
        "id": "PmVbO1sfn2CC",
        "colab_type": "text"
      },
      "cell_type": "markdown",
      "source": [
        "Finally create an output layer for the network. This should have a number of nodes appropriate for the number of classes in the dataset and contain a softmax activation. Furthermore, explain what the softmax function does here. Answer:"
      ]
    },
    {
      "metadata": {
        "id": "7ZDDwNVLoHc9",
        "colab_type": "code",
        "colab": {}
      },
      "cell_type": "code",
      "source": [
        ""
      ],
      "execution_count": 0,
      "outputs": []
    },
    {
      "metadata": {
        "id": "nBQmpW9YoKon",
        "colab_type": "text"
      },
      "cell_type": "markdown",
      "source": [
        "Below, describe the optimization parameters and protocol that will be used for your network. "
      ]
    },
    {
      "metadata": {
        "id": "QkGm_fcXoQ_B",
        "colab_type": "code",
        "colab": {}
      },
      "cell_type": "code",
      "source": [
        ""
      ],
      "execution_count": 0,
      "outputs": []
    },
    {
      "metadata": {
        "id": "oiikSSxcoSom",
        "colab_type": "text"
      },
      "cell_type": "markdown",
      "source": [
        "In the line below, build the model using tflearn.DNN. "
      ]
    },
    {
      "metadata": {
        "id": "Zr6rcz4_oei_",
        "colab_type": "code",
        "colab": {}
      },
      "cell_type": "code",
      "source": [
        ""
      ],
      "execution_count": 0,
      "outputs": []
    },
    {
      "metadata": {
        "id": "sdEgf41qoe9O",
        "colab_type": "text"
      },
      "cell_type": "markdown",
      "source": [
        "Finally, perform training on the dataset. You can choose any number of epochs, batch size, etc. you want. For the *validation_set* argument, input 0.1 to use a random 10% of the samples as validation. "
      ]
    },
    {
      "metadata": {
        "id": "tuTL_IYQpDzd",
        "colab_type": "code",
        "colab": {}
      },
      "cell_type": "code",
      "source": [
        ""
      ],
      "execution_count": 0,
      "outputs": []
    },
    {
      "metadata": {
        "id": "a4Rndl-wpEWk",
        "colab_type": "text"
      },
      "cell_type": "markdown",
      "source": [
        "Report the network's final validation accuracy training accuracy below."
      ]
    },
    {
      "metadata": {
        "id": "W8k2GhOEpIYR",
        "colab_type": "text"
      },
      "cell_type": "markdown",
      "source": [
        ""
      ]
    }
  ]
}