{
  "nbformat": 4,
  "nbformat_minor": 0,
  "metadata": {
    "colab": {
      "name": "Midterm_Practice.ipynb",
      "version": "0.3.2",
      "provenance": [],
      "collapsed_sections": []
    },
    "kernelspec": {
      "name": "python3",
      "display_name": "Python 3"
    }
  },
  "cells": [
    {
      "metadata": {
        "id": "VAULISJLlXeM",
        "colab_type": "text"
      },
      "cell_type": "markdown",
      "source": [
        "## Helpful Links:\n",
        "http://tflearn.org/   --- tflearn documentation; \n",
        "https://docs.scipy.org/doc/numpy-1.15.0/search.html  --- numpy documentation"
      ]
    },
    {
      "metadata": {
        "id": "RAYwZSD_TS2E",
        "colab_type": "code",
        "colab": {}
      },
      "cell_type": "code",
      "source": [
        "try:\n",
        "  import tflearn\n",
        "except ImportError:\n",
        "  !pip3 install -q tflearn\n",
        "  import tflearn"
      ],
      "execution_count": 0,
      "outputs": []
    },
    {
      "metadata": {
        "id": "yQkUex6vRqAK",
        "colab_type": "code",
        "colab": {}
      },
      "cell_type": "code",
      "source": [
        "from google.colab import drive\n",
        "import numpy as np\n",
        "import os\n",
        "import tensorflow as tf\n",
        "from tflearn.layers.conv import conv_2d, global_avg_pool\n",
        "from tflearn.activations import relu\n",
        "from tflearn.layers.normalization import batch_normalization as batch_norm\n",
        "from tflearn.layers.estimator import regression\n",
        "from tflearn.layers.core import fully_connected as fc\n",
        "import matplotlib.pyplot as plt\n",
        "from tflearn.data_utils import to_categorical"
      ],
      "execution_count": 0,
      "outputs": []
    },
    {
      "metadata": {
        "id": "etes1KTbTvRb",
        "colab_type": "text"
      },
      "cell_type": "markdown",
      "source": [
        "The line below shows how to mount your drive using Google Colab's new method. You should know how to navigate to your class folder like is shown in the next two lines. "
      ]
    },
    {
      "metadata": {
        "id": "t8jAZnHRRxma",
        "colab_type": "code",
        "colab": {
          "base_uri": "https://localhost:8080/",
          "height": 128
        },
        "outputId": "da0868fa-9220-4ebc-d495-a8c484fb282b"
      },
      "cell_type": "code",
      "source": [
        "drive.mount('/content/drive/')  # mount your drive"
      ],
      "execution_count": 3,
      "outputs": [
        {
          "output_type": "stream",
          "text": [
            "Go to this URL in a browser: https://accounts.google.com/o/oauth2/auth?client_id=947318989803-6bn6qk8qdgf4n4g3pfee6491hc0brc4i.apps.googleusercontent.com&redirect_uri=urn%3Aietf%3Awg%3Aoauth%3A2.0%3Aoob&scope=email%20https%3A%2F%2Fwww.googleapis.com%2Fauth%2Fdocs.test%20https%3A%2F%2Fwww.googleapis.com%2Fauth%2Fdrive%20https%3A%2F%2Fwww.googleapis.com%2Fauth%2Fdrive.photos.readonly%20https%3A%2F%2Fwww.googleapis.com%2Fauth%2Fpeopleapi.readonly&response_type=code\n",
            "\n",
            "Enter your authorization code:\n",
            "··········\n",
            "Mounted at /content/drive/\n"
          ],
          "name": "stdout"
        }
      ]
    },
    {
      "metadata": {
        "id": "b_oGdEAnT7jp",
        "colab_type": "code",
        "colab": {}
      },
      "cell_type": "code",
      "source": [
        "os.chdir('drive/My Drive/DeepLearningFall2018')  # enter the directory where your class files are"
      ],
      "execution_count": 0,
      "outputs": []
    },
    {
      "metadata": {
        "id": "L7jPfS-9UgE6",
        "colab_type": "text"
      },
      "cell_type": "markdown",
      "source": [
        "Below, we load in a dataset consisting of color images where there are 10 different categories of objects, such as a car, bird, truck, ship, etc. X is the training data, Y is the training labels, X_test is the validation data, Y_test is the validation labels. You will not need to memorize this part for this midterm."
      ]
    },
    {
      "metadata": {
        "id": "jsZuEDHaUJWf",
        "colab_type": "code",
        "colab": {}
      },
      "cell_type": "code",
      "source": [
        "from tflearn.datasets import cifar10\n",
        "(X, Y), (X_test, Y_test) = cifar10.load_data()"
      ],
      "execution_count": 0,
      "outputs": []
    },
    {
      "metadata": {
        "id": "NEuD4cwRkVTm",
        "colab_type": "text"
      },
      "cell_type": "markdown",
      "source": [
        "Below, print the maximum and minimum values in ***X***."
      ]
    },
    {
      "metadata": {
        "id": "jCUBVAe-kUTy",
        "colab_type": "code",
        "colab": {
          "base_uri": "https://localhost:8080/",
          "height": 35
        },
        "outputId": "d3d3b0da-8700-4be9-f492-df4f4f4ad20c"
      },
      "cell_type": "code",
      "source": [
        ""
      ],
      "execution_count": 6,
      "outputs": [
        {
          "output_type": "stream",
          "text": [
            "1.0\n"
          ],
          "name": "stdout"
        }
      ]
    },
    {
      "metadata": {
        "id": "-rio307fVvgQ",
        "colab_type": "text"
      },
      "cell_type": "markdown",
      "source": [
        "Below, print the shape of X, Y, X_test, and Y_test."
      ]
    },
    {
      "metadata": {
        "id": "-TIRxUxmVjF7",
        "colab_type": "code",
        "colab": {}
      },
      "cell_type": "code",
      "source": [
        ""
      ],
      "execution_count": 0,
      "outputs": []
    },
    {
      "metadata": {
        "id": "_yV98FEHV5Y2",
        "colab_type": "text"
      },
      "cell_type": "markdown",
      "source": [
        "Based on the output of the previous line, how many images are in the training and testing set, respectively?"
      ]
    },
    {
      "metadata": {
        "id": "WtlCVgWuWAVO",
        "colab_type": "text"
      },
      "cell_type": "markdown",
      "source": [
        ""
      ]
    },
    {
      "metadata": {
        "id": "4y8qHm9jWAaC",
        "colab_type": "text"
      },
      "cell_type": "markdown",
      "source": [
        "What is the size of each image?"
      ]
    },
    {
      "metadata": {
        "id": "V7oVPPyRWF7G",
        "colab_type": "text"
      },
      "cell_type": "markdown",
      "source": [
        ""
      ]
    },
    {
      "metadata": {
        "id": "JCR6DmUNWI3S",
        "colab_type": "text"
      },
      "cell_type": "markdown",
      "source": [
        "Show the image with index 10 using matplotlib's imshow method in the line below."
      ]
    },
    {
      "metadata": {
        "id": "Bk3H_9cPWaEh",
        "colab_type": "code",
        "colab": {}
      },
      "cell_type": "code",
      "source": [
        ""
      ],
      "execution_count": 0,
      "outputs": []
    },
    {
      "metadata": {
        "id": "YRPADbH0Wrkw",
        "colab_type": "text"
      },
      "cell_type": "markdown",
      "source": [
        "Below, define a function called ***conv_func*** that takes in some input called ***x*** (which will be one of the images in our dataset), and a weight filter called ***w***, pads the image ***x*** with zeros so that the filter ***w*** is able to be centered on the first and last pixel of each dimension, performs a convolution on ***x*** with ***w***, then performs the rectified linear activation function and returns that result."
      ]
    },
    {
      "metadata": {
        "id": "xSmTcFomfX59",
        "colab_type": "code",
        "colab": {}
      },
      "cell_type": "code",
      "source": [
        ""
      ],
      "execution_count": 0,
      "outputs": []
    },
    {
      "metadata": {
        "id": "wT9JK6DBfumZ",
        "colab_type": "text"
      },
      "cell_type": "markdown",
      "source": [
        "In the line below, create a 3x3x3 matrix of zeros. Call the matrix ***filter1***. Next, assign every row in the middle column of ***filter1*** the value 1.0. "
      ]
    },
    {
      "metadata": {
        "id": "wSQR55pCgKET",
        "colab_type": "code",
        "colab": {}
      },
      "cell_type": "code",
      "source": [
        ""
      ],
      "execution_count": 0,
      "outputs": []
    },
    {
      "metadata": {
        "id": "dPBxFBSSlBwF",
        "colab_type": "text"
      },
      "cell_type": "markdown",
      "source": [
        "If ***filter1*** was a convolutional filter, what feature would it be looking for? Answer in the line below."
      ]
    },
    {
      "metadata": {
        "id": "9TOxUm-ZlH6_",
        "colab_type": "text"
      },
      "cell_type": "markdown",
      "source": [
        ""
      ]
    },
    {
      "metadata": {
        "id": "dNXaXNcngNr9",
        "colab_type": "text"
      },
      "cell_type": "markdown",
      "source": [
        "In the line below, send the image with index 1000 from the dataset ***X*** and ***filter1*** to your ***conv_func*** function to perform a convolution on that image.  "
      ]
    },
    {
      "metadata": {
        "id": "poOBY0brhCfF",
        "colab_type": "code",
        "colab": {}
      },
      "cell_type": "code",
      "source": [
        ""
      ],
      "execution_count": 0,
      "outputs": []
    },
    {
      "metadata": {
        "id": "TzQCO9rzhC6f",
        "colab_type": "text"
      },
      "cell_type": "markdown",
      "source": [
        "In the line below, use matplotlib's imshow function to show the resulting feature map. "
      ]
    },
    {
      "metadata": {
        "id": "4EqVfxqGhG1t",
        "colab_type": "code",
        "colab": {}
      },
      "cell_type": "code",
      "source": [
        ""
      ],
      "execution_count": 0,
      "outputs": []
    },
    {
      "metadata": {
        "id": "2x44cQ-yjKEd",
        "colab_type": "text"
      },
      "cell_type": "markdown",
      "source": [
        "In the code cell below, perform a max pooling operation on the feature map from the previous line. You should first pad your feature map so that the max pooling window can be centered on the first and last pixels in the feature map. Use a window size of 3 and a stride of 2. Finally, use the imshow function again to visualize the result. "
      ]
    },
    {
      "metadata": {
        "id": "Hbk3bUb5kpb1",
        "colab_type": "code",
        "colab": {}
      },
      "cell_type": "code",
      "source": [
        ""
      ],
      "execution_count": 0,
      "outputs": []
    },
    {
      "metadata": {
        "id": "Cnx2R34FhJdx",
        "colab_type": "text"
      },
      "cell_type": "markdown",
      "source": [
        "In the line below, write a comment above the code to indicate what this line is doing and then run the cell."
      ]
    },
    {
      "metadata": {
        "id": "HzNwIYRQiP6Q",
        "colab_type": "code",
        "colab": {}
      },
      "cell_type": "code",
      "source": [
        "# comment here\n",
        "Y, Y_test = to_categorical(Y, 10), to_categorical(Y_test, 10)"
      ],
      "execution_count": 0,
      "outputs": []
    },
    {
      "metadata": {
        "id": "5icJCIV4i6ci",
        "colab_type": "text"
      },
      "cell_type": "markdown",
      "source": [
        "Print the shape of Y and Y_test"
      ]
    },
    {
      "metadata": {
        "id": "ChINlnQAlRDi",
        "colab_type": "code",
        "colab": {}
      },
      "cell_type": "code",
      "source": [
        ""
      ],
      "execution_count": 0,
      "outputs": []
    },
    {
      "metadata": {
        "id": "BxV5rIbAWg2l",
        "colab_type": "text"
      },
      "cell_type": "markdown",
      "source": [
        "Normalize the data in both the training and testing sets in the line below."
      ]
    },
    {
      "metadata": {
        "id": "PMvPmW4jV_yZ",
        "colab_type": "code",
        "colab": {}
      },
      "cell_type": "code",
      "source": [
        ""
      ],
      "execution_count": 0,
      "outputs": []
    },
    {
      "metadata": {
        "id": "SH62gYfomHyX",
        "colab_type": "text"
      },
      "cell_type": "markdown",
      "source": [
        "Below, create an image augmenter with at least one of tflearn's image augmentation techniques that would be appropriate for the images we have."
      ]
    },
    {
      "metadata": {
        "id": "z3MCtNu0mRHR",
        "colab_type": "code",
        "colab": {}
      },
      "cell_type": "code",
      "source": [
        ""
      ],
      "execution_count": 0,
      "outputs": []
    },
    {
      "metadata": {
        "id": "cmWLWseelTfe",
        "colab_type": "text"
      },
      "cell_type": "markdown",
      "source": [
        "Below, create the input layer to a convolutional neural network that could take in the images in ***X***, along with the image augmenter you created in the previous line. Call the layer ***input_layer***."
      ]
    },
    {
      "metadata": {
        "id": "IeK4YVSGlS1k",
        "colab_type": "code",
        "colab": {}
      },
      "cell_type": "code",
      "source": [
        ""
      ],
      "execution_count": 0,
      "outputs": []
    },
    {
      "metadata": {
        "id": "wqWwm3nkmYNy",
        "colab_type": "text"
      },
      "cell_type": "markdown",
      "source": [
        "Below, write a comment above every line to indicate what is happening in the line below the comment. Be as specific as possible (if you have to, you can use more than one line for comments). Then run the line. "
      ]
    },
    {
      "metadata": {
        "id": "wJqX8H-5mdCY",
        "colab_type": "code",
        "colab": {}
      },
      "cell_type": "code",
      "source": [
        "# put a comment here\n",
        "conv1 = conv_2d(input_layer, 64, 3, activation='linear')\n",
        "\n",
        "# put a comment here\n",
        "batch_norm1 = batch_norm(conv1)\n",
        "\n",
        "# put a comment here\n",
        "relu1 = relu(batch_norm1)"
      ],
      "execution_count": 0,
      "outputs": []
    },
    {
      "metadata": {
        "id": "OsGRW6NMnNS8",
        "colab_type": "text"
      },
      "cell_type": "markdown",
      "source": [
        "Below, perform a convolution on the ***relu1*** layer from the previous line with 128, 3x3 filters. Then, as in the previous line, normalize the feature maps and perform the rectified linear activation function. "
      ]
    },
    {
      "metadata": {
        "id": "DRIxBIA4nsZ2",
        "colab_type": "code",
        "colab": {}
      },
      "cell_type": "code",
      "source": [
        ""
      ],
      "execution_count": 0,
      "outputs": []
    },
    {
      "metadata": {
        "id": "SumVmY8pnsvD",
        "colab_type": "text"
      },
      "cell_type": "markdown",
      "source": [
        "Below, perform global average pooling on the feature maps from the layer before. "
      ]
    },
    {
      "metadata": {
        "id": "DbxJSO8Unx5Z",
        "colab_type": "code",
        "colab": {}
      },
      "cell_type": "code",
      "source": [
        ""
      ],
      "execution_count": 0,
      "outputs": []
    },
    {
      "metadata": {
        "id": "RT8OriIUnyXO",
        "colab_type": "text"
      },
      "cell_type": "markdown",
      "source": [
        "Finally, create a fully-connected layer to serve as the output layer of the network. Call this layer ***output_layer***. Make sure to have the appropriate parameters and activation, etc. "
      ]
    },
    {
      "metadata": {
        "id": "3aEP78PfoGew",
        "colab_type": "code",
        "colab": {}
      },
      "cell_type": "code",
      "source": [
        ""
      ],
      "execution_count": 0,
      "outputs": []
    },
    {
      "metadata": {
        "id": "x0H0piwJoL7M",
        "colab_type": "text"
      },
      "cell_type": "markdown",
      "source": [
        "In the line below, describe the optimization parameters of your network using tflearn's regression method. You can use whatever optimizer and learning rate you want. Call this layer ***opt***."
      ]
    },
    {
      "metadata": {
        "id": "CWryArImok1P",
        "colab_type": "code",
        "colab": {}
      },
      "cell_type": "code",
      "source": [
        ""
      ],
      "execution_count": 0,
      "outputs": []
    },
    {
      "metadata": {
        "id": "Ezr_mZMXolSs",
        "colab_type": "text"
      },
      "cell_type": "markdown",
      "source": [
        "Write a comment above the line below to describe what is happening there and why it is needed with TensorFlow. After that, run the cell. "
      ]
    },
    {
      "metadata": {
        "id": "GoocSlQkor-O",
        "colab_type": "code",
        "colab": {}
      },
      "cell_type": "code",
      "source": [
        "# comment here\n",
        "model = tflearn.DNN(opt)"
      ],
      "execution_count": 0,
      "outputs": []
    },
    {
      "metadata": {
        "id": "rkhNCmllpEfw",
        "colab_type": "text"
      },
      "cell_type": "markdown",
      "source": [
        "Below, write a comment next to each input argument to the fit() method to describe what that argument is/does. Finally, run the cell to perform the training."
      ]
    },
    {
      "metadata": {
        "id": "-Tw6_NCeqHMh",
        "colab_type": "code",
        "colab": {}
      },
      "cell_type": "code",
      "source": [
        "model.fit(X, # comment here\n",
        "          Y, # comment here\n",
        "          validation_set=(X_test, Y_test), # comment here\n",
        "          batch_size=100, # comment here\n",
        "          n_epochs=5, # comment here\n",
        "          shuffle=True, # comment here\n",
        "          show_metric=True  # shows the validation performance in tensorboard\n",
        "          run_id='cifar_10_CNN')  # comment here"
      ],
      "execution_count": 0,
      "outputs": []
    },
    {
      "metadata": {
        "id": "DSEiEikQrHzB",
        "colab_type": "text"
      },
      "cell_type": "markdown",
      "source": [
        "In the line below, save your model after it is done training. "
      ]
    },
    {
      "metadata": {
        "id": "2eZeM_4urLrd",
        "colab_type": "code",
        "colab": {}
      },
      "cell_type": "code",
      "source": [
        ""
      ],
      "execution_count": 0,
      "outputs": []
    }
  ]
}