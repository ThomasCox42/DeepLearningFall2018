{
  "nbformat": 4,
  "nbformat_minor": 0,
  "metadata": {
    "colab": {
      "name": "Untitled0.ipynb",
      "version": "0.3.2",
      "provenance": []
    }
  },
  "cells": [
    {
      "metadata": {
        "id": "X8kS_C2XQoeL",
        "colab_type": "text"
      },
      "cell_type": "markdown",
      "source": [
        "Nickolas Arustamyan"
      ]
    },
    {
      "metadata": {
        "id": "XaDwSqNYQzuo",
        "colab_type": "code",
        "colab": {}
      },
      "cell_type": "code",
      "source": [
        "import numpy as np\n",
        "from numpy.random import *"
      ],
      "execution_count": 0,
      "outputs": []
    },
    {
      "metadata": {
        "id": "7YtEb1kbQzyd",
        "colab_type": "code",
        "colab": {
          "base_uri": "https://localhost:8080/",
          "height": 102
        },
        "outputId": "183f887e-33a9-46c8-c5a7-90fd6e23f4c7"
      },
      "cell_type": "code",
      "source": [
        "mat1 = np.random.randn(5, 3)\n",
        "print(mat1)"
      ],
      "execution_count": 2,
      "outputs": [
        {
          "output_type": "stream",
          "text": [
            "[[ 0.37725455 -0.15963296 -0.08826203]\n",
            " [ 1.61240908 -1.33270834 -0.23753273]\n",
            " [ 0.5806476  -1.44802722  0.57170563]\n",
            " [-0.29452873 -1.23834394  0.70121761]\n",
            " [-0.94571249  0.09846671  0.22969776]]\n"
          ],
          "name": "stdout"
        }
      ]
    },
    {
      "metadata": {
        "id": "ZhqphqYsQz1K",
        "colab_type": "code",
        "colab": {
          "base_uri": "https://localhost:8080/",
          "height": 68
        },
        "outputId": "8d293d28-1544-44de-c1ed-5c5f065b9eb5"
      },
      "cell_type": "code",
      "source": [
        "mat2 = np.full((3, 4), 1)\n",
        "print(mat2)"
      ],
      "execution_count": 3,
      "outputs": [
        {
          "output_type": "stream",
          "text": [
            "[[1 1 1 1]\n",
            " [1 1 1 1]\n",
            " [1 1 1 1]]\n"
          ],
          "name": "stdout"
        }
      ]
    },
    {
      "metadata": {
        "id": "cHb5RR2SQz3Y",
        "colab_type": "code",
        "colab": {
          "base_uri": "https://localhost:8080/",
          "height": 102
        },
        "outputId": "611c248c-6b25-4d72-b8f3-ec66f52e9e7a"
      },
      "cell_type": "code",
      "source": [
        "mat_mul = np.matmul(mat1, mat2)\n",
        "print(mat_mul)"
      ],
      "execution_count": 4,
      "outputs": [
        {
          "output_type": "stream",
          "text": [
            "[[ 0.12935956  0.12935956  0.12935956  0.12935956]\n",
            " [ 0.04216801  0.04216801  0.04216801  0.04216801]\n",
            " [-0.29567399 -0.29567399 -0.29567399 -0.29567399]\n",
            " [-0.83165505 -0.83165505 -0.83165505 -0.83165505]\n",
            " [-0.61754801 -0.61754801 -0.61754801 -0.61754801]]\n"
          ],
          "name": "stdout"
        }
      ]
    },
    {
      "metadata": {
        "id": "yq12Ark7Q7zk",
        "colab_type": "text"
      },
      "cell_type": "markdown",
      "source": [
        "5 rows and 4 columns.\n",
        "Yes"
      ]
    },
    {
      "metadata": {
        "id": "vL46vNYqQz5p",
        "colab_type": "code",
        "colab": {
          "base_uri": "https://localhost:8080/",
          "height": 34
        },
        "outputId": "33d39864-5ad3-451a-d94a-8d0fa786fa00"
      },
      "cell_type": "code",
      "source": [
        "print(mat1[0][2])"
      ],
      "execution_count": 5,
      "outputs": [
        {
          "output_type": "stream",
          "text": [
            "-0.08826202983534932\n"
          ],
          "name": "stdout"
        }
      ]
    },
    {
      "metadata": {
        "id": "sJas7Ip3Qz7i",
        "colab_type": "code",
        "colab": {
          "base_uri": "https://localhost:8080/",
          "height": 102
        },
        "outputId": "3866a1f9-cb02-46eb-8651-63c43e95d3bd"
      },
      "cell_type": "code",
      "source": [
        "mat1[2,2] = 0.3\n",
        "print(mat1)"
      ],
      "execution_count": 6,
      "outputs": [
        {
          "output_type": "stream",
          "text": [
            "[[ 0.37725455 -0.15963296 -0.08826203]\n",
            " [ 1.61240908 -1.33270834 -0.23753273]\n",
            " [ 0.5806476  -1.44802722  0.3       ]\n",
            " [-0.29452873 -1.23834394  0.70121761]\n",
            " [-0.94571249  0.09846671  0.22969776]]\n"
          ],
          "name": "stdout"
        }
      ]
    },
    {
      "metadata": {
        "id": "CDweQFAFRaiw",
        "colab_type": "code",
        "colab": {
          "base_uri": "https://localhost:8080/",
          "height": 34
        },
        "outputId": "ec2370a4-34b6-4065-b795-13d06e70d6cd"
      },
      "cell_type": "code",
      "source": [
        "print(mat2.shape)"
      ],
      "execution_count": 7,
      "outputs": [
        {
          "output_type": "stream",
          "text": [
            "(3, 4)\n"
          ],
          "name": "stdout"
        }
      ]
    },
    {
      "metadata": {
        "id": "mbwnP8FqRak-",
        "colab_type": "code",
        "colab": {
          "base_uri": "https://localhost:8080/",
          "height": 68
        },
        "outputId": "e22a2c46-9f0d-4581-f519-37046cc33639"
      },
      "cell_type": "code",
      "source": [
        "mat2 = mat2 + 2\n",
        "print(mat2)"
      ],
      "execution_count": 8,
      "outputs": [
        {
          "output_type": "stream",
          "text": [
            "[[3 3 3 3]\n",
            " [3 3 3 3]\n",
            " [3 3 3 3]]\n"
          ],
          "name": "stdout"
        }
      ]
    },
    {
      "metadata": {
        "id": "reLcgLeaRanb",
        "colab_type": "code",
        "colab": {
          "base_uri": "https://localhost:8080/",
          "height": 34
        },
        "outputId": "cb071911-4937-4c47-883b-6cef86059b82"
      },
      "cell_type": "code",
      "source": [
        "mat1rowsum = [sum([row[i] for row in mat1]) for i in range(0,len(mat1[0]))]\n",
        "print(mat1rowsum)"
      ],
      "execution_count": 9,
      "outputs": [
        {
          "output_type": "stream",
          "text": [
            "[1.3300700168364945, -4.080245745379969, 0.9051206159574939]\n"
          ],
          "name": "stdout"
        }
      ]
    },
    {
      "metadata": {
        "id": "jjQOsEIYRipD",
        "colab_type": "text"
      },
      "cell_type": "markdown",
      "source": [
        "3 by 8"
      ]
    },
    {
      "metadata": {
        "id": "ut5BG4SmRapx",
        "colab_type": "code",
        "colab": {
          "base_uri": "https://localhost:8080/",
          "height": 34
        },
        "outputId": "4aa288d9-ed98-4f60-f1aa-82d77f2dcd59"
      },
      "cell_type": "code",
      "source": [
        "mat1mean = mat1.mean()\n",
        "print(mat1mean)"
      ],
      "execution_count": 10,
      "outputs": [
        {
          "output_type": "stream",
          "text": [
            "-0.12300367417239869\n"
          ],
          "name": "stdout"
        }
      ]
    },
    {
      "metadata": {
        "id": "bnuxpQpaRar2",
        "colab_type": "code",
        "colab": {
          "base_uri": "https://localhost:8080/",
          "height": 51
        },
        "outputId": "3efecd30-b20f-49c6-9849-5ef1952fea43"
      },
      "cell_type": "code",
      "source": [
        "mat1row1 = mat1[:][0]\n",
        "print(mat1row1)\n",
        "print(mat1row1.shape)"
      ],
      "execution_count": 11,
      "outputs": [
        {
          "output_type": "stream",
          "text": [
            "[ 0.37725455 -0.15963296 -0.08826203]\n",
            "(3,)\n"
          ],
          "name": "stdout"
        }
      ]
    },
    {
      "metadata": {
        "id": "oFoJ17n-Rat2",
        "colab_type": "code",
        "colab": {
          "base_uri": "https://localhost:8080/",
          "height": 51
        },
        "outputId": "c6415f04-091e-4129-c42d-b9e536318be5"
      },
      "cell_type": "code",
      "source": [
        "mat1row2 = mat1[:][1]\n",
        "print(mat1row2)\n",
        "print(mat1row2.shape)"
      ],
      "execution_count": 12,
      "outputs": [
        {
          "output_type": "stream",
          "text": [
            "[ 1.61240908 -1.33270834 -0.23753273]\n",
            "(3,)\n"
          ],
          "name": "stdout"
        }
      ]
    },
    {
      "metadata": {
        "id": "pRv_2SrGRawJ",
        "colab_type": "code",
        "colab": {
          "base_uri": "https://localhost:8080/",
          "height": 51
        },
        "outputId": "960f46f2-105f-44a9-94b6-ac813c82f935"
      },
      "cell_type": "code",
      "source": [
        "mat1col1 = mat1[0][:]\n",
        "print(mat1col1)\n",
        "print(mat1col1.shape)"
      ],
      "execution_count": 13,
      "outputs": [
        {
          "output_type": "stream",
          "text": [
            "[ 0.37725455 -0.15963296 -0.08826203]\n",
            "(3,)\n"
          ],
          "name": "stdout"
        }
      ]
    },
    {
      "metadata": {
        "id": "26En0GpNRaya",
        "colab_type": "code",
        "colab": {
          "base_uri": "https://localhost:8080/",
          "height": 51
        },
        "outputId": "9a7ac0fb-1b0b-45d7-dea8-4f76d695304e"
      },
      "cell_type": "code",
      "source": [
        "print(np.amax(mat1))\n",
        "print(np.amin(mat1))"
      ],
      "execution_count": 14,
      "outputs": [
        {
          "output_type": "stream",
          "text": [
            "1.6124090753579794\n",
            "-1.448027221885814\n"
          ],
          "name": "stdout"
        }
      ]
    },
    {
      "metadata": {
        "id": "5ICWYh93Ra01",
        "colab_type": "code",
        "colab": {
          "base_uri": "https://localhost:8080/",
          "height": 34
        },
        "outputId": "30be703a-4e0f-43e8-d219-fc17e035cc8a"
      },
      "cell_type": "code",
      "source": [
        "print(mat1.size)"
      ],
      "execution_count": 15,
      "outputs": [
        {
          "output_type": "stream",
          "text": [
            "15\n"
          ],
          "name": "stdout"
        }
      ]
    },
    {
      "metadata": {
        "id": "YYFOme8aRr8o",
        "colab_type": "code",
        "colab": {
          "base_uri": "https://localhost:8080/",
          "height": 85
        },
        "outputId": "31c4a505-b4df-4455-beeb-c826d04416c9"
      },
      "cell_type": "code",
      "source": [
        "mat3 = np.full((4, 4), 0)\n",
        "print(mat3)"
      ],
      "execution_count": 16,
      "outputs": [
        {
          "output_type": "stream",
          "text": [
            "[[0 0 0 0]\n",
            " [0 0 0 0]\n",
            " [0 0 0 0]\n",
            " [0 0 0 0]]\n"
          ],
          "name": "stdout"
        }
      ]
    },
    {
      "metadata": {
        "id": "GQHm4cyORr-N",
        "colab_type": "code",
        "colab": {
          "base_uri": "https://localhost:8080/",
          "height": 85
        },
        "outputId": "a8094bac-4a13-4dd8-ef61-44947778bdad"
      },
      "cell_type": "code",
      "source": [
        "mat4 = np.full((4, 4), 1)\n",
        "print(mat4)"
      ],
      "execution_count": 17,
      "outputs": [
        {
          "output_type": "stream",
          "text": [
            "[[1 1 1 1]\n",
            " [1 1 1 1]\n",
            " [1 1 1 1]\n",
            " [1 1 1 1]]\n"
          ],
          "name": "stdout"
        }
      ]
    },
    {
      "metadata": {
        "id": "TW9oNExKRr__",
        "colab_type": "code",
        "colab": {
          "base_uri": "https://localhost:8080/",
          "height": 85
        },
        "outputId": "de897895-7959-43df-dea9-820ad03d9523"
      },
      "cell_type": "code",
      "source": [
        "mat3_4 = mat3 + mat4\n",
        "print(mat3_4)"
      ],
      "execution_count": 18,
      "outputs": [
        {
          "output_type": "stream",
          "text": [
            "[[1 1 1 1]\n",
            " [1 1 1 1]\n",
            " [1 1 1 1]\n",
            " [1 1 1 1]]\n"
          ],
          "name": "stdout"
        }
      ]
    },
    {
      "metadata": {
        "id": "dRFccDvaR9ZH",
        "colab_type": "code",
        "colab": {
          "base_uri": "https://localhost:8080/",
          "height": 85
        },
        "outputId": "811cc7e3-d198-4321-fbe2-005e312526b7"
      },
      "cell_type": "code",
      "source": [
        "mat3_4mult = mat3 * mat4\n",
        "print(mat3_4mult)"
      ],
      "execution_count": 19,
      "outputs": [
        {
          "output_type": "stream",
          "text": [
            "[[0 0 0 0]\n",
            " [0 0 0 0]\n",
            " [0 0 0 0]\n",
            " [0 0 0 0]]\n"
          ],
          "name": "stdout"
        }
      ]
    },
    {
      "metadata": {
        "id": "ra_h3IbbR9bH",
        "colab_type": "code",
        "colab": {
          "base_uri": "https://localhost:8080/",
          "height": 85
        },
        "outputId": "97032759-0e16-4861-ec83-7e4222bdf220"
      },
      "cell_type": "code",
      "source": [
        "mat5 = np.random.randn(4, 3)\n",
        "print(mat5)"
      ],
      "execution_count": 20,
      "outputs": [
        {
          "output_type": "stream",
          "text": [
            "[[ 0.32878639  0.69067228 -0.85285243]\n",
            " [-0.1090239   0.13698937 -0.21612183]\n",
            " [-1.17513653 -0.10128643  0.15715395]\n",
            " [ 0.52349248  0.03980959 -1.27104381]]\n"
          ],
          "name": "stdout"
        }
      ]
    },
    {
      "metadata": {
        "id": "yfPxbJJCSCmB",
        "colab_type": "text"
      },
      "cell_type": "markdown",
      "source": [
        "True, True, and False"
      ]
    },
    {
      "metadata": {
        "id": "izFagm4-R9dG",
        "colab_type": "code",
        "colab": {
          "base_uri": "https://localhost:8080/",
          "height": 34
        },
        "outputId": "51229634-44a4-4d73-ff5f-afa7dd5185b5"
      },
      "cell_type": "code",
      "source": [
        "mat4_transpose = mat4.transpose()\n",
        "mat45mult = np.matmul(mat4,mat5)\n",
        "print(mat45mult.shape)"
      ],
      "execution_count": 21,
      "outputs": [
        {
          "output_type": "stream",
          "text": [
            "(4, 3)\n"
          ],
          "name": "stdout"
        }
      ]
    },
    {
      "metadata": {
        "id": "M5mJPEZpSLXd",
        "colab_type": "code",
        "colab": {}
      },
      "cell_type": "code",
      "source": [
        ""
      ],
      "execution_count": 0,
      "outputs": []
    }
  ]
}