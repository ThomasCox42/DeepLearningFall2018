{
  "nbformat": 4,
  "nbformat_minor": 0,
  "metadata": {
    "colab": {
      "name": "Neonguyen_Homework1.ipynb",
      "version": "0.3.2",
      "provenance": []
    }
  },
  "cells": [
    {
      "metadata": {
        "id": "DrFjie7CKJ0G",
        "colab_type": "text"
      },
      "cell_type": "markdown",
      "source": [
        "Neo Nguyen\n"
      ]
    },
    {
      "metadata": {
        "id": "x5Rq7y_J8Xtr",
        "colab_type": "code",
        "colab": {}
      },
      "cell_type": "code",
      "source": [
        "import numpy as np\n",
        "from numpy.random import *"
      ],
      "execution_count": 0,
      "outputs": []
    },
    {
      "metadata": {
        "id": "ZcXCZLdRTt28",
        "colab_type": "code",
        "colab": {
          "base_uri": "https://localhost:8080/",
          "height": 105
        },
        "outputId": "49dbfcb8-14cd-42c6-e4ef-434fb2bcf17e"
      },
      "cell_type": "code",
      "source": [
        "mat1 = np.random.randn(5, 3)\n",
        "print(mat1)"
      ],
      "execution_count": 7,
      "outputs": [
        {
          "output_type": "stream",
          "text": [
            "[[-1.3959257  -0.74971253 -1.31843938]\n",
            " [ 0.27182836 -1.2792101  -0.05391017]\n",
            " [ 0.3859277  -1.48293574  1.11770434]\n",
            " [ 0.21398448 -0.77061349  1.09746907]\n",
            " [ 0.85068571  0.54674282  0.32903976]]\n"
          ],
          "name": "stdout"
        }
      ]
    },
    {
      "metadata": {
        "id": "R4625xn9GWyB",
        "colab_type": "code",
        "colab": {
          "base_uri": "https://localhost:8080/",
          "height": 70
        },
        "outputId": "d2566fc2-e4aa-41cc-9f12-d261ab2c725a"
      },
      "cell_type": "code",
      "source": [
        "mat2 = np.full((3,4), 1)\n",
        "print mat2"
      ],
      "execution_count": 8,
      "outputs": [
        {
          "output_type": "stream",
          "text": [
            "[[1 1 1 1]\n",
            " [1 1 1 1]\n",
            " [1 1 1 1]]\n"
          ],
          "name": "stdout"
        }
      ]
    },
    {
      "metadata": {
        "id": "xys3_oFLGmmZ",
        "colab_type": "code",
        "colab": {
          "base_uri": "https://localhost:8080/",
          "height": 105
        },
        "outputId": "befb65c2-6e46-470b-f192-175df21a8543"
      },
      "cell_type": "code",
      "source": [
        "mat_mul = np.matmul(mat1, mat2)\n",
        "print(mat_mul)"
      ],
      "execution_count": 9,
      "outputs": [
        {
          "output_type": "stream",
          "text": [
            "[[-3.46407761 -3.46407761 -3.46407761 -3.46407761]\n",
            " [-1.06129191 -1.06129191 -1.06129191 -1.06129191]\n",
            " [ 0.0206963   0.0206963   0.0206963   0.0206963 ]\n",
            " [ 0.54084007  0.54084007  0.54084007  0.54084007]\n",
            " [ 1.7264683   1.7264683   1.7264683   1.7264683 ]]\n"
          ],
          "name": "stdout"
        }
      ]
    },
    {
      "metadata": {
        "id": "OfFp-0yrKGM6",
        "colab_type": "text"
      },
      "cell_type": "markdown",
      "source": [
        "4 columns, 5 rows\n",
        "\n",
        "yes"
      ]
    },
    {
      "metadata": {
        "id": "MfYl-cdOGs8l",
        "colab_type": "code",
        "colab": {
          "base_uri": "https://localhost:8080/",
          "height": 34
        },
        "outputId": "630c49dc-ab6b-4802-bb1e-ba379d35b190"
      },
      "cell_type": "code",
      "source": [
        "print(mat1[0][2])"
      ],
      "execution_count": 10,
      "outputs": [
        {
          "output_type": "stream",
          "text": [
            "-1.318439375990972\n"
          ],
          "name": "stdout"
        }
      ]
    },
    {
      "metadata": {
        "id": "Rc80zXohHTcP",
        "colab_type": "code",
        "colab": {
          "base_uri": "https://localhost:8080/",
          "height": 105
        },
        "outputId": "18f40cb2-4708-4a8c-df28-e8aed933c04b"
      },
      "cell_type": "code",
      "source": [
        "mat1[2,2] = 0.3\n",
        "print(mat1)"
      ],
      "execution_count": 11,
      "outputs": [
        {
          "output_type": "stream",
          "text": [
            "[[-1.3959257  -0.74971253 -1.31843938]\n",
            " [ 0.27182836 -1.2792101  -0.05391017]\n",
            " [ 0.3859277  -1.48293574  0.3       ]\n",
            " [ 0.21398448 -0.77061349  1.09746907]\n",
            " [ 0.85068571  0.54674282  0.32903976]]\n"
          ],
          "name": "stdout"
        }
      ]
    },
    {
      "metadata": {
        "id": "y-OwWZsnHrkm",
        "colab_type": "code",
        "colab": {
          "base_uri": "https://localhost:8080/",
          "height": 34
        },
        "outputId": "d693ab02-cccf-4f3e-a547-0a202155bf2e"
      },
      "cell_type": "code",
      "source": [
        "print(mat2.shape)"
      ],
      "execution_count": 14,
      "outputs": [
        {
          "output_type": "stream",
          "text": [
            "(3, 4)\n"
          ],
          "name": "stdout"
        }
      ]
    },
    {
      "metadata": {
        "id": "43-2yCDdHt3-",
        "colab_type": "code",
        "colab": {
          "base_uri": "https://localhost:8080/",
          "height": 70
        },
        "outputId": "493d46b0-a531-4636-9e49-70a7d4c9330b"
      },
      "cell_type": "code",
      "source": [
        "mat2 = mat2 + 2\n",
        "print(mat2)"
      ],
      "execution_count": 15,
      "outputs": [
        {
          "output_type": "stream",
          "text": [
            "[[3 3 3 3]\n",
            " [3 3 3 3]\n",
            " [3 3 3 3]]\n"
          ],
          "name": "stdout"
        }
      ]
    },
    {
      "metadata": {
        "id": "m7WgA7VyH1HE",
        "colab_type": "code",
        "colab": {
          "base_uri": "https://localhost:8080/",
          "height": 34
        },
        "outputId": "b76ba4ef-45d7-480c-a474-8c975fc300d6"
      },
      "cell_type": "code",
      "source": [
        "mat1rowsum = [sum([row[i] for row in mat1]) for i in range(0,len(mat1[0]))]\n",
        "print(mat1rowsum)"
      ],
      "execution_count": 16,
      "outputs": [
        {
          "output_type": "stream",
          "text": [
            "[0.32650055708157055, -3.735729033136489, 0.3541592873807809]\n"
          ],
          "name": "stdout"
        }
      ]
    },
    {
      "metadata": {
        "id": "SiFQaHNJKNxn",
        "colab_type": "text"
      },
      "cell_type": "markdown",
      "source": [
        "3 x 8"
      ]
    },
    {
      "metadata": {
        "id": "s3cFwJDAIMJL",
        "colab_type": "code",
        "colab": {
          "base_uri": "https://localhost:8080/",
          "height": 34
        },
        "outputId": "cdea7130-57d7-43f5-9ec5-e8423172d932"
      },
      "cell_type": "code",
      "source": [
        "mat1mean = mat1.mean()\n",
        "print(mat1mean)"
      ],
      "execution_count": 18,
      "outputs": [
        {
          "output_type": "stream",
          "text": [
            "-0.2036712792449425\n"
          ],
          "name": "stdout"
        }
      ]
    },
    {
      "metadata": {
        "id": "yy7jO4tvIQCQ",
        "colab_type": "code",
        "colab": {
          "base_uri": "https://localhost:8080/",
          "height": 52
        },
        "outputId": "c7175acf-1061-4087-97cb-531a47482ac4"
      },
      "cell_type": "code",
      "source": [
        "mat1row1 = mat1[:][0]\n",
        "print(mat1row1)\n",
        "print(mat1row1.shape)"
      ],
      "execution_count": 20,
      "outputs": [
        {
          "output_type": "stream",
          "text": [
            "[-1.3959257  -0.74971253 -1.31843938]\n",
            "(3,)\n"
          ],
          "name": "stdout"
        }
      ]
    },
    {
      "metadata": {
        "id": "YGl8VSydIZWT",
        "colab_type": "code",
        "colab": {
          "base_uri": "https://localhost:8080/",
          "height": 52
        },
        "outputId": "22ffee73-2762-474f-99b2-4a5728c8a40d"
      },
      "cell_type": "code",
      "source": [
        "mat1row2 = mat1[:][1]\n",
        "print(mat1row2)\n",
        "print(mat1row2.shape)"
      ],
      "execution_count": 21,
      "outputs": [
        {
          "output_type": "stream",
          "text": [
            "[ 0.27182836 -1.2792101  -0.05391017]\n",
            "(3,)\n"
          ],
          "name": "stdout"
        }
      ]
    },
    {
      "metadata": {
        "id": "QGR_InY6IxVv",
        "colab_type": "code",
        "colab": {
          "base_uri": "https://localhost:8080/",
          "height": 52
        },
        "outputId": "2e28f440-8083-45db-c77d-04e60689cbc9"
      },
      "cell_type": "code",
      "source": [
        "mat1col1 = mat1[0][:]\n",
        "print(mat1col1)\n",
        "print(mat1col1.shape)"
      ],
      "execution_count": 23,
      "outputs": [
        {
          "output_type": "stream",
          "text": [
            "[-1.3959257  -0.74971253 -1.31843938]\n",
            "(3,)\n"
          ],
          "name": "stdout"
        }
      ]
    },
    {
      "metadata": {
        "id": "nwEbZPKoI4v4",
        "colab_type": "code",
        "colab": {
          "base_uri": "https://localhost:8080/",
          "height": 52
        },
        "outputId": "f32b5858-2152-41ae-9545-01e96ff377bf"
      },
      "cell_type": "code",
      "source": [
        "print(np.amax(mat1))\n",
        "print(np.amin(mat1))"
      ],
      "execution_count": 24,
      "outputs": [
        {
          "output_type": "stream",
          "text": [
            "1.0974690726704495\n",
            "-1.4829357408941373\n"
          ],
          "name": "stdout"
        }
      ]
    },
    {
      "metadata": {
        "id": "tU48PKD3JACU",
        "colab_type": "code",
        "colab": {
          "base_uri": "https://localhost:8080/",
          "height": 34
        },
        "outputId": "b9101488-bcb5-4a76-8600-51b54f7d6c88"
      },
      "cell_type": "code",
      "source": [
        "print(mat1.size)\n"
      ],
      "execution_count": 25,
      "outputs": [
        {
          "output_type": "stream",
          "text": [
            "15\n"
          ],
          "name": "stdout"
        }
      ]
    },
    {
      "metadata": {
        "id": "s_3j6fhgJCqZ",
        "colab_type": "code",
        "colab": {
          "base_uri": "https://localhost:8080/",
          "height": 87
        },
        "outputId": "2904b124-585c-4c4e-c2e0-6fde3cb0163d"
      },
      "cell_type": "code",
      "source": [
        "mat3 = np.full((4,4),0)\n",
        "print(mat3)"
      ],
      "execution_count": 26,
      "outputs": [
        {
          "output_type": "stream",
          "text": [
            "[[0 0 0 0]\n",
            " [0 0 0 0]\n",
            " [0 0 0 0]\n",
            " [0 0 0 0]]\n"
          ],
          "name": "stdout"
        }
      ]
    },
    {
      "metadata": {
        "id": "hxP_0ggzJJR1",
        "colab_type": "code",
        "colab": {
          "base_uri": "https://localhost:8080/",
          "height": 87
        },
        "outputId": "291a1d2a-11f2-4800-9068-dc85b54ca7bd"
      },
      "cell_type": "code",
      "source": [
        "mat4 = np.full((4,4),1)\n",
        "print(mat4)"
      ],
      "execution_count": 28,
      "outputs": [
        {
          "output_type": "stream",
          "text": [
            "[[1 1 1 1]\n",
            " [1 1 1 1]\n",
            " [1 1 1 1]\n",
            " [1 1 1 1]]\n"
          ],
          "name": "stdout"
        }
      ]
    },
    {
      "metadata": {
        "id": "rQYnmgdpJN2m",
        "colab_type": "code",
        "colab": {
          "base_uri": "https://localhost:8080/",
          "height": 87
        },
        "outputId": "01ac246a-01c9-465a-a1bc-e9b9fc446b8b"
      },
      "cell_type": "code",
      "source": [
        "mat3_4 = mat3+mat4\n",
        "print(mat3_4)"
      ],
      "execution_count": 29,
      "outputs": [
        {
          "output_type": "stream",
          "text": [
            "[[1 1 1 1]\n",
            " [1 1 1 1]\n",
            " [1 1 1 1]\n",
            " [1 1 1 1]]\n"
          ],
          "name": "stdout"
        }
      ]
    },
    {
      "metadata": {
        "id": "sKtnyl7HJUy9",
        "colab_type": "code",
        "colab": {
          "base_uri": "https://localhost:8080/",
          "height": 87
        },
        "outputId": "6c99e7c6-daf3-48e8-b63a-990a84f0f6e0"
      },
      "cell_type": "code",
      "source": [
        "mat3_4mult = mat3 * mat4\n",
        "print(mat3_4mult)"
      ],
      "execution_count": 30,
      "outputs": [
        {
          "output_type": "stream",
          "text": [
            "[[0 0 0 0]\n",
            " [0 0 0 0]\n",
            " [0 0 0 0]\n",
            " [0 0 0 0]]\n"
          ],
          "name": "stdout"
        }
      ]
    },
    {
      "metadata": {
        "id": "2ax7EGaFJhXf",
        "colab_type": "code",
        "colab": {
          "base_uri": "https://localhost:8080/",
          "height": 87
        },
        "outputId": "58184b3e-9ddd-4a2f-df38-8a4b1db457ab"
      },
      "cell_type": "code",
      "source": [
        "mat5 = np.random.randn(4, 3)\n",
        "print(mat5)"
      ],
      "execution_count": 31,
      "outputs": [
        {
          "output_type": "stream",
          "text": [
            "[[-0.92009474  0.7652972  -0.46637732]\n",
            " [-0.10282714 -1.03987683  2.03670499]\n",
            " [ 1.93341417 -0.09322134 -0.33868209]\n",
            " [-0.40003252  0.62473265 -0.4154799 ]]\n"
          ],
          "name": "stdout"
        }
      ]
    },
    {
      "metadata": {
        "id": "rdqfSrIFKTva",
        "colab_type": "text"
      },
      "cell_type": "markdown",
      "source": [
        "True\n",
        "True\n",
        "False"
      ]
    },
    {
      "metadata": {
        "id": "34NpCU6XJucA",
        "colab_type": "code",
        "colab": {
          "base_uri": "https://localhost:8080/",
          "height": 34
        },
        "outputId": "095db223-a9e1-41fe-d1d1-89e69b57127e"
      },
      "cell_type": "code",
      "source": [
        "mat4_transpose = mat4.transpose()\n",
        "mat45mult = np.matmul(mat4,mat5)\n",
        "print(mat45mult.shape)"
      ],
      "execution_count": 33,
      "outputs": [
        {
          "output_type": "stream",
          "text": [
            "(4, 3)\n"
          ],
          "name": "stdout"
        }
      ]
    },
    {
      "metadata": {
        "id": "zNAMbjKEKSgl",
        "colab_type": "text"
      },
      "cell_type": "markdown",
      "source": [
        ""
      ]
    },
    {
      "metadata": {
        "id": "Ee7tDqfpJ2we",
        "colab_type": "code",
        "colab": {}
      },
      "cell_type": "code",
      "source": [
        ""
      ],
      "execution_count": 0,
      "outputs": []
    }
  ]
}