{
  "nbformat": 4,
  "nbformat_minor": 0,
  "metadata": {
    "colab": {
      "name": "DeepLearning_Fall2018_HW1.ipynb",
      "version": "0.3.2",
      "provenance": []
    },
    "kernelspec": {
      "name": "python3",
      "display_name": "Python 3"
    }
  },
  "cells": [
    {
      "metadata": {
        "id": "aX6UBflcbGw1",
        "colab_type": "text"
      },
      "cell_type": "markdown",
      "source": [
        "In the line below, write your first and last name."
      ]
    },
    {
      "metadata": {
        "id": "xqRKl4nKbIyj",
        "colab_type": "text"
      },
      "cell_type": "markdown",
      "source": [
        "Shirley Xu"
      ]
    },
    {
      "metadata": {
        "id": "ZUCRobZE2T9P",
        "colab_type": "code",
        "colab": {}
      },
      "cell_type": "code",
      "source": [
        "import numpy as np\n",
        "from numpy.random import *"
      ],
      "execution_count": 0,
      "outputs": []
    },
    {
      "metadata": {
        "id": "v6knQ8c22mQJ",
        "colab_type": "text"
      },
      "cell_type": "markdown",
      "source": [
        "In the empty code cell below, create a 5 x 3 matrix called ***mat1*** composed of random numbers taken from a Gaussian distribution. "
      ]
    },
    {
      "metadata": {
        "id": "1uUdLdn62XG9",
        "colab_type": "code",
        "colab": {
          "base_uri": "https://localhost:8080/",
          "height": 102
        },
        "outputId": "198ff8a6-ea8c-4067-e3ac-f7674665b95a"
      },
      "cell_type": "code",
      "source": [
        "mat1 = np.random.randn (5,3)\n",
        "mat1"
      ],
      "execution_count": 68,
      "outputs": [
        {
          "output_type": "execute_result",
          "data": {
            "text/plain": [
              "array([[-1.55215231,  0.86622528, -0.65008866],\n",
              "       [ 0.7212795 ,  0.69982874, -0.89283864],\n",
              "       [-0.94013468,  0.71704516,  1.5109253 ],\n",
              "       [-1.41364876, -2.03147894,  0.74036528],\n",
              "       [-2.11914311,  2.42087922, -1.34614872]])"
            ]
          },
          "metadata": {
            "tags": []
          },
          "execution_count": 68
        }
      ]
    },
    {
      "metadata": {
        "id": "9jjm8K663Cvf",
        "colab_type": "text"
      },
      "cell_type": "markdown",
      "source": [
        "In the code cell below, create a 3 x 4 matrix called ***mat2*** where every element in the matrix is the value 1."
      ]
    },
    {
      "metadata": {
        "id": "gKfVO2rMTfiO",
        "colab_type": "code",
        "colab": {
          "base_uri": "https://localhost:8080/",
          "height": 68
        },
        "outputId": "e0e83458-a559-4c55-e5f2-d5d84e3b2aee"
      },
      "cell_type": "code",
      "source": [
        "mat2 = np.ones([3,4])\n",
        "print(mat2)"
      ],
      "execution_count": 69,
      "outputs": [
        {
          "output_type": "stream",
          "text": [
            "[[1. 1. 1. 1.]\n",
            " [1. 1. 1. 1.]\n",
            " [1. 1. 1. 1.]]\n"
          ],
          "name": "stdout"
        }
      ]
    },
    {
      "metadata": {
        "id": "M0nlnH0k3RjU",
        "colab_type": "text"
      },
      "cell_type": "markdown",
      "source": [
        "In the code cell below, perform a matrix multiply between ***mat1*** and ***mat2*** and call the resulting matrix mat_mul."
      ]
    },
    {
      "metadata": {
        "id": "z5-numH73QmE",
        "colab_type": "code",
        "colab": {
          "base_uri": "https://localhost:8080/",
          "height": 119
        },
        "outputId": "4345b32c-a185-4141-a82a-61f5de6c137a"
      },
      "cell_type": "code",
      "source": [
        "mat1 = np.random.randn (5,3)\n",
        "mat2 = np.ones([3,4])\n",
        "mat_mul = np.matmul(mat1,mat2)\n",
        "print(mat_mul)\n",
        "print(mat_mul.shape)"
      ],
      "execution_count": 70,
      "outputs": [
        {
          "output_type": "stream",
          "text": [
            "[[-0.21359619 -0.21359619 -0.21359619 -0.21359619]\n",
            " [ 1.66653972  1.66653972  1.66653972  1.66653972]\n",
            " [-0.57410945 -0.57410945 -0.57410945 -0.57410945]\n",
            " [ 0.73194567  0.73194567  0.73194567  0.73194567]\n",
            " [ 2.19574232  2.19574232  2.19574232  2.19574232]]\n",
            "(5, 4)\n"
          ],
          "name": "stdout"
        }
      ]
    },
    {
      "metadata": {
        "id": "641avPu752z5",
        "colab_type": "text"
      },
      "cell_type": "markdown",
      "source": [
        "How many rows and columns should the matrix ***mat_mul*** have? Enter your answer in the line below."
      ]
    },
    {
      "metadata": {
        "id": "KG5Rsy_56IHa",
        "colab_type": "text"
      },
      "cell_type": "markdown",
      "source": [
        "5 x 4"
      ]
    },
    {
      "metadata": {
        "id": "rIBEO41p6e9J",
        "colab_type": "text"
      },
      "cell_type": "markdown",
      "source": [
        "Can ***mat1*** and ***mat2*** be added together, elementwise? Answer in the line below."
      ]
    },
    {
      "metadata": {
        "id": "UYNbab_b6uB6",
        "colab_type": "text"
      },
      "cell_type": "markdown",
      "source": [
        "Yes"
      ]
    },
    {
      "metadata": {
        "id": "xlEkwdje6usV",
        "colab_type": "text"
      },
      "cell_type": "markdown",
      "source": [
        "In the line below, print the value of ***mat1<sub>0,2</sub>***"
      ]
    },
    {
      "metadata": {
        "id": "Xzzs9tCVaKfd",
        "colab_type": "code",
        "colab": {}
      },
      "cell_type": "code",
      "source": [
        "mat1_02 = mat1[0,2]"
      ],
      "execution_count": 0,
      "outputs": []
    },
    {
      "metadata": {
        "id": "67uszUsu5wPA",
        "colab_type": "code",
        "colab": {
          "base_uri": "https://localhost:8080/",
          "height": 34
        },
        "outputId": "6dcc83c1-86c4-454b-8823-838cdf0ee39f"
      },
      "cell_type": "code",
      "source": [
        "print(mat1_02)"
      ],
      "execution_count": 72,
      "outputs": [
        {
          "output_type": "stream",
          "text": [
            "-0.5710006820135133\n"
          ],
          "name": "stdout"
        }
      ]
    },
    {
      "metadata": {
        "id": "XqfSa1H1_nuw",
        "colab_type": "text"
      },
      "cell_type": "markdown",
      "source": [
        "In the line below, change the value of ***mat1<sub>2,2</sub>*** to 0.3. Then, print ***mat1*** to show the change."
      ]
    },
    {
      "metadata": {
        "id": "vb8mygdi8xE7",
        "colab_type": "code",
        "colab": {}
      },
      "cell_type": "code",
      "source": [
        "mat1[2,2] = 0.3"
      ],
      "execution_count": 0,
      "outputs": []
    },
    {
      "metadata": {
        "id": "yWzEP-a7a2FR",
        "colab_type": "code",
        "colab": {
          "base_uri": "https://localhost:8080/",
          "height": 34
        },
        "outputId": "c8deb7c8-7a48-452c-967c-78d16b7c7640"
      },
      "cell_type": "code",
      "source": [
        "print (mat1[2,2])"
      ],
      "execution_count": 74,
      "outputs": [
        {
          "output_type": "stream",
          "text": [
            "0.3\n"
          ],
          "name": "stdout"
        }
      ]
    },
    {
      "metadata": {
        "id": "870FhaqAMVG2",
        "colab_type": "text"
      },
      "cell_type": "markdown",
      "source": [
        "In the line below, print the shape of ***mat2***."
      ]
    },
    {
      "metadata": {
        "id": "htcLFo1E_4gb",
        "colab_type": "code",
        "colab": {
          "base_uri": "https://localhost:8080/",
          "height": 34
        },
        "outputId": "dba58c02-aca6-4568-aadd-3be13a83eb69"
      },
      "cell_type": "code",
      "source": [
        "print (mat2.shape)"
      ],
      "execution_count": 75,
      "outputs": [
        {
          "output_type": "stream",
          "text": [
            "(3, 4)\n"
          ],
          "name": "stdout"
        }
      ]
    },
    {
      "metadata": {
        "id": "Pj6JsBL6TAqH",
        "colab_type": "text"
      },
      "cell_type": "markdown",
      "source": [
        "In the line below, add a value of 2.0 to every element in ***mat2***. Then print ***mat2*** to show the result."
      ]
    },
    {
      "metadata": {
        "id": "-hnuEIaNS88P",
        "colab_type": "code",
        "colab": {}
      },
      "cell_type": "code",
      "source": [
        "mat2 = mat2 + 2"
      ],
      "execution_count": 0,
      "outputs": []
    },
    {
      "metadata": {
        "id": "BM0iLDEEea50",
        "colab_type": "code",
        "colab": {
          "base_uri": "https://localhost:8080/",
          "height": 68
        },
        "outputId": "9933c2be-7fb0-4ed9-bb04-d40411f7f1ea"
      },
      "cell_type": "code",
      "source": [
        "print (mat2)"
      ],
      "execution_count": 77,
      "outputs": [
        {
          "output_type": "stream",
          "text": [
            "[[3. 3. 3. 3.]\n",
            " [3. 3. 3. 3.]\n",
            " [3. 3. 3. 3.]]\n"
          ],
          "name": "stdout"
        }
      ]
    },
    {
      "metadata": {
        "id": "PDxXQdHgTbCn",
        "colab_type": "text"
      },
      "cell_type": "markdown",
      "source": [
        "In the line below, take the sum of each column of ***mat1*** and call the result ***mat1sum***. Then, print ***mat1sum*** and its shape."
      ]
    },
    {
      "metadata": {
        "id": "l-muD4TATLRd",
        "colab_type": "code",
        "colab": {
          "base_uri": "https://localhost:8080/",
          "height": 51
        },
        "outputId": "6f18b6a6-5d1c-4ff9-cb15-23efc9bd36ed"
      },
      "cell_type": "code",
      "source": [
        "mat1sum = np.sum(mat1,0)\n",
        "print(mat1sum)\n",
        "print(mat1sum.shape)"
      ],
      "execution_count": 78,
      "outputs": [
        {
          "output_type": "stream",
          "text": [
            "[ 3.54872725  4.77569695 -2.85207629]\n",
            "(3,)\n"
          ],
          "name": "stdout"
        }
      ]
    },
    {
      "metadata": {
        "id": "nFvgI71zT8Mx",
        "colab_type": "text"
      },
      "cell_type": "markdown",
      "source": [
        "In the line below, write the shape you would expect if you transposed a 8 x 3 matrix."
      ]
    },
    {
      "metadata": {
        "id": "MpGr0dhPUQUy",
        "colab_type": "text"
      },
      "cell_type": "markdown",
      "source": [
        "3 x 8"
      ]
    },
    {
      "metadata": {
        "id": "JQCw221_UetL",
        "colab_type": "text"
      },
      "cell_type": "markdown",
      "source": [
        "In the line below, take the mean of ***mat1*** and call the result ***mat1mean***. Then, print ***mat1mean***."
      ]
    },
    {
      "metadata": {
        "id": "Z8TU_hNPUOsX",
        "colab_type": "code",
        "colab": {
          "base_uri": "https://localhost:8080/",
          "height": 34
        },
        "outputId": "092a9492-1532-484d-902e-145486571716"
      },
      "cell_type": "code",
      "source": [
        "mat1mean = np.mean(mat1)\n",
        "print(mat1mean)"
      ],
      "execution_count": 79,
      "outputs": [
        {
          "output_type": "stream",
          "text": [
            "0.364823193519547\n"
          ],
          "name": "stdout"
        }
      ]
    },
    {
      "metadata": {
        "id": "U75rw8DNUzfa",
        "colab_type": "text"
      },
      "cell_type": "markdown",
      "source": [
        "In the line below, create a variable called ***mat1row1*** which is the first row of ***mat1***. Then, print ***mat1row1*** and its shape."
      ]
    },
    {
      "metadata": {
        "id": "pEQJyZpbUsYN",
        "colab_type": "code",
        "colab": {
          "base_uri": "https://localhost:8080/",
          "height": 51
        },
        "outputId": "7ba3ae42-a453-4962-bc48-ba1cd90a3d13"
      },
      "cell_type": "code",
      "source": [
        "mat1row1 = mat1[1,:]\n",
        "print(mat1row1)\n",
        "print(mat1row1.shape)"
      ],
      "execution_count": 80,
      "outputs": [
        {
          "output_type": "stream",
          "text": [
            "[ 0.58656543  1.48324797 -0.40327368]\n",
            "(3,)\n"
          ],
          "name": "stdout"
        }
      ]
    },
    {
      "metadata": {
        "id": "4qwbBZmxVMVE",
        "colab_type": "text"
      },
      "cell_type": "markdown",
      "source": [
        "In the line below, create a variable called ***mat1row2*** which is the second row of ***mat1***. Then, print ***mat1row2*** and its shape."
      ]
    },
    {
      "metadata": {
        "id": "GRHdFOPQVIUL",
        "colab_type": "code",
        "colab": {
          "base_uri": "https://localhost:8080/",
          "height": 51
        },
        "outputId": "6ddd1047-9bed-4069-ead6-39aceb3032f5"
      },
      "cell_type": "code",
      "source": [
        "mat1row2 = mat1[2,:]\n",
        "print(mat1row2)\n",
        "print(mat1row2.shape)"
      ],
      "execution_count": 81,
      "outputs": [
        {
          "output_type": "stream",
          "text": [
            "[0.55501263 0.23670374 0.3       ]\n",
            "(3,)\n"
          ],
          "name": "stdout"
        }
      ]
    },
    {
      "metadata": {
        "id": "1rxnG2gZVY5R",
        "colab_type": "text"
      },
      "cell_type": "markdown",
      "source": [
        "In the line below, create a variable called ***mat1col1*** which is the first column of ***mat1***. Then, print ***mat1col1*** and its shape."
      ]
    },
    {
      "metadata": {
        "id": "JVav6sdMVXJh",
        "colab_type": "code",
        "colab": {
          "base_uri": "https://localhost:8080/",
          "height": 51
        },
        "outputId": "9ab340fb-d4d3-4f3d-d0a4-13f656a96e2c"
      },
      "cell_type": "code",
      "source": [
        "mat1col1 = mat1[:,1]\n",
        "print(mat1col1)\n",
        "print(mat1col1.shape)"
      ],
      "execution_count": 82,
      "outputs": [
        {
          "output_type": "stream",
          "text": [
            "[-0.66709188  1.48324797  0.23670374  2.59639807  1.12643904]\n",
            "(5,)\n"
          ],
          "name": "stdout"
        }
      ]
    },
    {
      "metadata": {
        "id": "y1xp049GVvVS",
        "colab_type": "text"
      },
      "cell_type": "markdown",
      "source": [
        "In the line below, print the maximum value in ***mat1***, as well as the minimum value of ***mat1***."
      ]
    },
    {
      "metadata": {
        "id": "5jFJgtBAVqSz",
        "colab_type": "code",
        "colab": {
          "base_uri": "https://localhost:8080/",
          "height": 51
        },
        "outputId": "c8de719e-1f7a-4c26-f415-6c64bf26c159"
      },
      "cell_type": "code",
      "source": [
        "mat1max = np.amax(mat1)\n",
        "print(mat1max)\n",
        "mat1min = np.amin(mat1)\n",
        "print(mat1min)"
      ],
      "execution_count": 83,
      "outputs": [
        {
          "output_type": "stream",
          "text": [
            "2.596398073459466\n",
            "-1.8948850015029086\n"
          ],
          "name": "stdout"
        }
      ]
    },
    {
      "metadata": {
        "id": "DzXLsxnDWFrR",
        "colab_type": "text"
      },
      "cell_type": "markdown",
      "source": [
        "In the line below, print the number of elements in ***mat1***."
      ]
    },
    {
      "metadata": {
        "id": "HXu5wvnsWCQP",
        "colab_type": "code",
        "colab": {
          "base_uri": "https://localhost:8080/",
          "height": 34
        },
        "outputId": "973b837d-0f73-4e89-8e6d-9084ab084b62"
      },
      "cell_type": "code",
      "source": [
        "mat1element = np.size(mat1)\n",
        "print (mat1element)"
      ],
      "execution_count": 84,
      "outputs": [
        {
          "output_type": "stream",
          "text": [
            "15\n"
          ],
          "name": "stdout"
        }
      ]
    },
    {
      "metadata": {
        "id": "V1jQv8bQWMnd",
        "colab_type": "text"
      },
      "cell_type": "markdown",
      "source": [
        "In the line below, create a matrix of zeros called ***mat3*** with shape 4 x 4. Then print ***mat3***."
      ]
    },
    {
      "metadata": {
        "id": "r8GX3b-GWJ0o",
        "colab_type": "code",
        "colab": {
          "base_uri": "https://localhost:8080/",
          "height": 85
        },
        "outputId": "a19c1d9d-10b7-479d-fe6d-1f74b41d5185"
      },
      "cell_type": "code",
      "source": [
        "mat3 = np.zeros([4,4])\n",
        "print(mat3)"
      ],
      "execution_count": 85,
      "outputs": [
        {
          "output_type": "stream",
          "text": [
            "[[0. 0. 0. 0.]\n",
            " [0. 0. 0. 0.]\n",
            " [0. 0. 0. 0.]\n",
            " [0. 0. 0. 0.]]\n"
          ],
          "name": "stdout"
        }
      ]
    },
    {
      "metadata": {
        "id": "4mVTwYVtWaf3",
        "colab_type": "text"
      },
      "cell_type": "markdown",
      "source": [
        "In the line below, create matrix of ones called ***mat4*** with shape 4 x 4. Then print ***mat4***."
      ]
    },
    {
      "metadata": {
        "id": "PDOYsJBsWZi1",
        "colab_type": "code",
        "colab": {
          "base_uri": "https://localhost:8080/",
          "height": 85
        },
        "outputId": "ab8fa220-38b6-4a63-8d92-735b4a03f11a"
      },
      "cell_type": "code",
      "source": [
        "mat4 = np.ones([4,4])\n",
        "print(mat4)"
      ],
      "execution_count": 86,
      "outputs": [
        {
          "output_type": "stream",
          "text": [
            "[[1. 1. 1. 1.]\n",
            " [1. 1. 1. 1.]\n",
            " [1. 1. 1. 1.]\n",
            " [1. 1. 1. 1.]]\n"
          ],
          "name": "stdout"
        }
      ]
    },
    {
      "metadata": {
        "id": "I6o3_3IhW7Vd",
        "colab_type": "text"
      },
      "cell_type": "markdown",
      "source": [
        "In the line below, add ***mat3*** and ***mat4*** elementwise and call the resulting matrix ***mat3_4***. Then print ***mat3_4***."
      ]
    },
    {
      "metadata": {
        "id": "ZUdD5vhAW6t1",
        "colab_type": "code",
        "colab": {
          "base_uri": "https://localhost:8080/",
          "height": 85
        },
        "outputId": "d6286822-c623-43e0-8661-40f672891257"
      },
      "cell_type": "code",
      "source": [
        "mat3_4 = mat3 + mat4\n",
        "print(mat3_4)"
      ],
      "execution_count": 87,
      "outputs": [
        {
          "output_type": "stream",
          "text": [
            "[[1. 1. 1. 1.]\n",
            " [1. 1. 1. 1.]\n",
            " [1. 1. 1. 1.]\n",
            " [1. 1. 1. 1.]]\n"
          ],
          "name": "stdout"
        }
      ]
    },
    {
      "metadata": {
        "id": "Pwc7Xj82XO8z",
        "colab_type": "text"
      },
      "cell_type": "markdown",
      "source": [
        "In the line below, multiply ***mat3*** by ***mat4*** elementwise and call the resulting matrix ***mat3_4mult*** and print it."
      ]
    },
    {
      "metadata": {
        "id": "6EPGRjqFW5wC",
        "colab_type": "code",
        "colab": {
          "base_uri": "https://localhost:8080/",
          "height": 85
        },
        "outputId": "b5bd59af-b5b0-4b90-af2b-4475369eec14"
      },
      "cell_type": "code",
      "source": [
        "mat3_4mult = np.matmul(mat3,mat4)\n",
        "print(mat3_4mult)"
      ],
      "execution_count": 88,
      "outputs": [
        {
          "output_type": "stream",
          "text": [
            "[[0. 0. 0. 0.]\n",
            " [0. 0. 0. 0.]\n",
            " [0. 0. 0. 0.]\n",
            " [0. 0. 0. 0.]]\n"
          ],
          "name": "stdout"
        }
      ]
    },
    {
      "metadata": {
        "id": "tEIefrdEXeYC",
        "colab_type": "text"
      },
      "cell_type": "markdown",
      "source": [
        "In the line below, create new matrix called ***mat5*** with shape 4 x 3 with random numbers from a normal distribution. Then print ***mat5***."
      ]
    },
    {
      "metadata": {
        "id": "gLhdimHoXcI4",
        "colab_type": "code",
        "colab": {
          "base_uri": "https://localhost:8080/",
          "height": 85
        },
        "outputId": "e40e638a-6ba6-42c7-e096-1e9e474a924e"
      },
      "cell_type": "code",
      "source": [
        "mat5 = np.random.randn (4,3)\n",
        "print(mat5)"
      ],
      "execution_count": 89,
      "outputs": [
        {
          "output_type": "stream",
          "text": [
            "[[-0.52701571  0.15029225  0.75556633]\n",
            " [-1.11191347  0.95819176  1.94458975]\n",
            " [ 0.29263863 -0.26308333 -0.75184992]\n",
            " [ 1.40893121 -0.0394048   1.40532604]]\n"
          ],
          "name": "stdout"
        }
      ]
    },
    {
      "metadata": {
        "id": "LhuEpmHiX5kA",
        "colab_type": "text"
      },
      "cell_type": "markdown",
      "source": [
        "In the line below, write your answer to the following question: A matrix multiply can be performed between ***mat4*** and ***mat5*** in that order (True or False)."
      ]
    },
    {
      "metadata": {
        "id": "fLgzR8IkYWMP",
        "colab_type": "text"
      },
      "cell_type": "markdown",
      "source": [
        "True"
      ]
    },
    {
      "metadata": {
        "id": "rlXd4U8rYW4D",
        "colab_type": "text"
      },
      "cell_type": "markdown",
      "source": [
        "In the line below, write your answer to the following question: A matrix multiply can be performed between ***mat4*** and ***mat5*** if you transpose ***mat4*** (True or False)."
      ]
    },
    {
      "metadata": {
        "id": "bUxNmrvHYz1K",
        "colab_type": "text"
      },
      "cell_type": "markdown",
      "source": [
        "True"
      ]
    },
    {
      "metadata": {
        "id": "BvdTG-11Y5-0",
        "colab_type": "text"
      },
      "cell_type": "markdown",
      "source": [
        "In the line below, write your answer to the following question: A matrix multiply can be performed between ***mat5*** and ***mat4*** in that order (True or False)."
      ]
    },
    {
      "metadata": {
        "id": "3FDmxqeSZHkP",
        "colab_type": "text"
      },
      "cell_type": "markdown",
      "source": [
        "False"
      ]
    },
    {
      "metadata": {
        "id": "JJnIYMvgZOia",
        "colab_type": "text"
      },
      "cell_type": "markdown",
      "source": [
        "In the line below, transpose ***mat4*** and perform a matrix multiply between ***mat4*** and ***mat5*** in that order and call the resulting matrix ***mat45mult***. Then, print the shape of the resulting matrix."
      ]
    },
    {
      "metadata": {
        "id": "6jxpyXtUX5AW",
        "colab_type": "code",
        "colab": {}
      },
      "cell_type": "code",
      "source": [
        "mat4 = mat4.transpose()"
      ],
      "execution_count": 0,
      "outputs": []
    },
    {
      "metadata": {
        "id": "sC3fPMVrVcPI",
        "colab_type": "code",
        "colab": {
          "base_uri": "https://localhost:8080/",
          "height": 85
        },
        "outputId": "5fff6273-1036-4205-a274-e7ec49e2c9c8"
      },
      "cell_type": "code",
      "source": [
        "print(mat4)"
      ],
      "execution_count": 91,
      "outputs": [
        {
          "output_type": "stream",
          "text": [
            "[[1. 1. 1. 1.]\n",
            " [1. 1. 1. 1.]\n",
            " [1. 1. 1. 1.]\n",
            " [1. 1. 1. 1.]]\n"
          ],
          "name": "stdout"
        }
      ]
    },
    {
      "metadata": {
        "id": "p-JtQ8WrViH_",
        "colab_type": "code",
        "colab": {
          "base_uri": "https://localhost:8080/",
          "height": 34
        },
        "outputId": "3a8ce6db-d9e8-4eb6-b93c-dd2dd627d17b"
      },
      "cell_type": "code",
      "source": [
        "mat45mult = np.matmul(mat4,mat5)\n",
        "print(mat45mult.shape)"
      ],
      "execution_count": 92,
      "outputs": [
        {
          "output_type": "stream",
          "text": [
            "(4, 3)\n"
          ],
          "name": "stdout"
        }
      ]
    },
    {
      "metadata": {
        "id": "59zUHJYKasWo",
        "colab_type": "text"
      },
      "cell_type": "markdown",
      "source": [
        "To submit this assignment, click on File > Download as .ipynb and upload the downloaded notebook to the Homework1 folder on the class github. "
      ]
    }
  ]
}